{
  "nbformat": 4,
  "nbformat_minor": 0,
  "metadata": {
    "colab": {
      "provenance": []
    },
    "kernelspec": {
      "name": "python3",
      "display_name": "Python 3"
    },
    "language_info": {
      "name": "python"
    }
  },
  "cells": [
    {
      "cell_type": "code",
      "execution_count": 4,
      "metadata": {
        "colab": {
          "base_uri": "https://localhost:8080/"
        },
        "id": "cn3iS3kUmPiS",
        "outputId": "afbc1e3b-d1b4-40d8-94f1-4e04ea4f272b"
      },
      "outputs": [
        {
          "output_type": "stream",
          "name": "stdout",
          "text": [
            "▶ 1단계: 데이터 분석 도구를 로딩했습니다.\n",
            "▶ 2단계: 파일 병합을 위한 준비를 마쳤습니다.\n",
            "  - '오피스텔(전월세)_실거래가_2022년 오피스텔.csv' 파일을 성공적으로 읽었습니다. (데이터 33309건)\n",
            "  - '연립다세대(전월세)_실거래가_2022년 연립다주택.csv' 파일을 성공적으로 읽었습니다. (데이터 89037건)\n",
            "  - '오피스텔(전월세)_실거래가_2023년 오피스텔.csv' 파일을 성공적으로 읽었습니다. (데이터 27744건)\n",
            "  - '연립다세대(전월세)_실거래가_2023년 연립다세대.csv' 파일을 성공적으로 읽었습니다. (데이터 72016건)\n",
            "  - '오피스텔(전월세)_실거래가_2024.csv' 파일을 성공적으로 읽었습니다. (데이터 25567건)\n",
            "  - '연립다세대(전월세)_실거래가_2024년 연립다세대.csv' 파일을 성공적으로 읽었습니다. (데이터 64121건)\n",
            "▶ 3단계: 모든 파일을 순서대로 읽고 정리했습니다.\n",
            "▶ 4단계: 6개 파일을 하나의 표로 완벽하게 합쳤습니다.\n",
            "\n",
            "모든 작업이 완료되었습니다!\n",
            "'통합_실거래가_2022-2024.csv' 이름으로 결과 파일이 저장되었습니다.\n",
            "총 311794건의 데이터가 합쳐졌습니다.\n"
          ]
        }
      ],
      "source": [
        "\n",
        "import pandas as pd\n",
        "import os\n",
        "\n",
        "print(\"▶ 1단계: 데이터 분석 도구를 로딩했습니다.\")\n",
        "\n",
        "\n",
        "file_list = [\n",
        "    '오피스텔(전월세)_실거래가_2022년 오피스텔.csv',\n",
        "    '연립다세대(전월세)_실거래가_2022년 연립다주택.csv',\n",
        "    '오피스텔(전월세)_실거래가_2023년 오피스텔.csv',\n",
        "    '연립다세대(전월세)_실거래가_2023년 연립다세대.csv',\n",
        "    '오피스텔(전월세)_실거래가_2024.csv',\n",
        "    '연립다세대(전월세)_실거래가_2024년 연립다세대.csv'\n",
        "]\n",
        "\n",
        "\n",
        "all_data_frames = []\n",
        "print(\"▶ 2단계: 파일 병합을 위한 준비를 마쳤습니다.\")\n",
        "\n",
        "\n",
        "for filename in file_list:\n",
        "\n",
        "    if not os.path.exists(filename):\n",
        "        print(f\" (!) 경고: '{filename}' 파일을 찾을 수 없습니다. 왼쪽 메뉴에 파일이 잘 업로드되었는지 확인해주세요.\")\n",
        "        continue\n",
        "\n",
        "\n",
        "    df = pd.read_csv(filename, skiprows=15, encoding='cp949')\n",
        "\n",
        "\n",
        "    if '오피스텔' in filename:\n",
        "        df['주택유형'] = '오피스텔'\n",
        "\n",
        "        if '건물명' in df.columns:\n",
        "            df.rename(columns={'건물명': '단지명'}, inplace=True)\n",
        "\n",
        "\n",
        "    elif '연립다세대' in filename or '연립다주택' in filename:\n",
        "        df['주택유형'] = '연립다세대'\n",
        "\n",
        "        if '건물명' in df.columns:\n",
        "            df.rename(columns={'건물명': '단지명'}, inplace=True)\n",
        "\n",
        "\n",
        "    all_data_frames.append(df)\n",
        "    print(f\"  - '{filename}' 파일을 성공적으로 읽었습니다. (데이터 {len(df)}건)\")\n",
        "\n",
        "print(\"▶ 3단계: 모든 파일을 순서대로 읽고 정리했습니다.\")\n",
        "\n",
        "\n",
        "if not all_data_frames:\n",
        "    print(\"\\n[!] 최종 오류: 처리할 파일이 하나도 없습니다. 파일 업로드 상태를 다시 확인해주세요.\")\n",
        "else:\n",
        "\n",
        "    merged_df = pd.concat(all_data_frames, ignore_index=True)\n",
        "    print(\"▶ 4단계: 6개 파일을 하나의 표로 완벽하게 합쳤습니다.\")\n",
        "\n",
        "\n",
        "    output_filename = '통합_실거래가_2022-2024.csv'\n",
        "\n",
        "    merged_df.to_csv(output_filename, index=False, encoding='utf-8-sig')\n",
        "\n",
        "    print(\"\\n모든 작업이 완료되었습니다!\")\n",
        "    print(f\"'{output_filename}' 이름으로 결과 파일이 저장되었습니다.\")\n",
        "    print(f\"총 {len(merged_df)}건의 데이터가 합쳐졌습니다.\")\n"
      ]
    },
    {
      "cell_type": "code",
      "source": [
        "\n",
        "import pandas as pd\n",
        "import os\n",
        "\n",
        "print(\"▶ 1단계: 데이터 분석 도구를 로딩했습니다.\")\n",
        "\n",
        "input_filename = '통합_실거래가_2022-2024.csv'\n",
        "\n",
        "columns_to_keep = [\n",
        "    '시군구',\n",
        "    '번지',\n",
        "    '본번',\n",
        "    '부번',\n",
        "    '단지명',\n",
        "    '계약년월',\n",
        "    '계약일',\n",
        "    '보증금(만원)',\n",
        "    '층',\n",
        "    '도로명',\n",
        "    '주택유형'\n",
        "]\n",
        "print(\"▶ 2단계: 남길 열 목록을 설정했습니다.\")\n",
        "\n",
        "if not os.path.exists(input_filename):\n",
        "    print(f\"\\n[!] 오류: '{input_filename}' 파일을 찾을 수 없습니다. 왼쪽에 파일이 정확히 업로드되었는지 확인해주세요.\")\n",
        "else:\n",
        "\n",
        "    df = pd.read_csv(input_filename, encoding='utf-8-sig')\n",
        "    print(f\"▶ 3단계: '{input_filename}' 파일을 성공적으로 읽었습니다. (총 {len(df)}건)\")\n",
        "\n",
        "\n",
        "    df_selected = df[columns_to_keep]\n",
        "    print(\"▶ 4단계: 원하는 열만 성공적으로 골라냈습니다.\")\n",
        "\n",
        "\n",
        "    output_filename = '최종_정리파일_2022-2024.csv'\n",
        "\n",
        "    df_selected.to_csv(output_filename, index=False, encoding='utf-8-sig')\n",
        "\n",
        "    print(\"\\n모든 작업이 완료되었습니다!\")\n",
        "    print(f\"'{output_filename}' 이름으로 결과 파일이 저장되었습니다.\")\n",
        "    print(\"선택된 열 목록:\", columns_to_keep)\n"
      ],
      "metadata": {
        "id": "SuRdsdwOoU8q",
        "outputId": "42fdd72b-1da8-45c1-8da3-fcf6f6d42ca5",
        "colab": {
          "base_uri": "https://localhost:8080/"
        }
      },
      "execution_count": 5,
      "outputs": [
        {
          "output_type": "stream",
          "name": "stdout",
          "text": [
            "▶ 1단계: 데이터 분석 도구를 로딩했습니다.\n",
            "▶ 2단계: 남길 열 목록을 설정했습니다.\n",
            "▶ 3단계: '통합_실거래가_2022-2024.csv' 파일을 성공적으로 읽었습니다. (총 311794건)\n",
            "▶ 4단계: 원하는 열만 성공적으로 골라냈습니다.\n",
            "\n",
            "모든 작업이 완료되었습니다!\n",
            "'최종_정리파일_2022-2024.csv' 이름으로 결과 파일이 저장되었습니다.\n",
            "선택된 열 목록: ['시군구', '번지', '본번', '부번', '단지명', '계약년월', '계약일', '보증금(만원)', '층', '도로명', '주택유형']\n"
          ]
        }
      ]
    }
  ]
}